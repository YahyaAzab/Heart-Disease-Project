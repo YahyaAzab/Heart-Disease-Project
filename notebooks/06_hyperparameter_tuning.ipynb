{
 "cells": [
  {
   "cell_type": "code",
   "execution_count": 90,
   "id": "f71b2ff9",
   "metadata": {},
   "outputs": [],
   "source": [
    "import pandas as pd\n",
    "import numpy as np\n",
    "from sklearn.model_selection import GridSearchCV, RandomizedSearchCV\n",
    "from sklearn.ensemble import RandomForestClassifier\n",
    "from sklearn.svm import SVC\n",
    "from sklearn.linear_model import LogisticRegression\n",
    "import joblib"
   ]
  },
  {
   "cell_type": "code",
   "execution_count": 91,
   "id": "5b4274e9",
   "metadata": {},
   "outputs": [],
   "source": [
    "df = pd.read_csv('../data/heart_disease.csv')\n",
    "X = df.drop('target', axis=1)\n",
    "y = df['target']"
   ]
  },
  {
   "cell_type": "code",
   "execution_count": 92,
   "id": "6b1145e6",
   "metadata": {},
   "outputs": [],
   "source": [
    "lr = joblib.load('../models/logistic_regression_model.pkl')\n",
    "rf = joblib.load('../models/random_forest_classifier_model.pkl')\n",
    "svm = joblib.load('../models/svm_model.pkl')\n",
    "heirarchical = joblib.load('../models/heir_clustering_model.pkl')\n",
    "kmeans = joblib.load('../models/kmeans_model.pkl')\n",
    "dt = joblib.load('../models/decision_tree_classifier_model.pkl')"
   ]
  },
  {
   "cell_type": "code",
   "execution_count": 93,
   "id": "a655e442",
   "metadata": {},
   "outputs": [],
   "source": [
    "param_grid = {\n",
    "    'RandomForestClassifier': {\n",
    "        'n_estimators': [50, 100, 200],\n",
    "        'max_depth': [None, 10, 20, 30],\n",
    "        'min_samples_split': [2, 5, 10]\n",
    "    },\n",
    "    'LogisticRegression': {\n",
    "        'C': [0.01, 0.1, 1, 10, 100],\n",
    "        'solver': ['liblinear', 'saga'],\n",
    "        'penalty': ['l1', 'l2']\n",
    "    },\n",
    "    'HeirarchicalClustering': {\n",
    "        'n_clusters': [2, 3, 4, 5],\n",
    "        'linkage': ['ward', 'complete', 'average', 'single']\n",
    "    },\n",
    "    'Kmeans': {\n",
    "        'n_clusters': [2, 3, 4, 5],\n",
    "        'init': ['k-means++', 'random'],\n",
    "        'n_init': [10, 20, 30]\n",
    "    },\n",
    "    'DecisionTreeClassifier': {\n",
    "        'max_depth': [None, 10, 20, 30],\n",
    "        'min_samples_split': [2, 5, 10],\n",
    "        'criterion': ['gini', 'entropy']\n",
    "    },\n",
    "    'SVC': {\n",
    "        'C': [0.1, 1, 10, 100],\n",
    "        'kernel': ['linear', 'poly', 'rbf', 'sigmoid'],\n",
    "        'gamma': ['scale', 'auto']\n",
    "    }\n",
    "}"
   ]
  },
  {
   "cell_type": "code",
   "execution_count": 94,
   "id": "a9156cae",
   "metadata": {},
   "outputs": [
    {
     "name": "stdout",
     "output_type": "stream",
     "text": [
      "Logistic Regression:\n",
      "Best parameters: {'C': 10, 'penalty': 'l1', 'solver': 'saga'}\n",
      "Best score: 0.6037704918032787\n"
     ]
    }
   ],
   "source": [
    "search_lr = GridSearchCV(lr, param_grid['LogisticRegression'], cv=5, n_jobs=-1, scoring='accuracy')\n",
    "search_lr.fit(X, y)\n",
    "print('Logistic Regression:')\n",
    "print(f'Best parameters: {search_lr.best_params_}')\n",
    "print(f'Best score: {search_lr.best_score_}')"
   ]
  },
  {
   "cell_type": "code",
   "execution_count": 95,
   "id": "08ead12f",
   "metadata": {},
   "outputs": [
    {
     "name": "stdout",
     "output_type": "stream",
     "text": [
      "Decision Tree Classifier:\n",
      "Best parameters: {'criterion': 'entropy', 'max_depth': None, 'min_samples_split': 10}\n",
      "Best score: 0.5213114754098361\n"
     ]
    }
   ],
   "source": [
    "search_dt = GridSearchCV(dt, param_grid['DecisionTreeClassifier'], cv=5, n_jobs=-1, scoring='accuracy')\n",
    "search_dt.fit(X, y)\n",
    "print('Decision Tree Classifier:')\n",
    "print(f'Best parameters: {search_dt.best_params_}')\n",
    "print(f'Best score: {search_dt.best_score_}')"
   ]
  },
  {
   "cell_type": "code",
   "execution_count": 96,
   "id": "4d031c7e",
   "metadata": {},
   "outputs": [
    {
     "name": "stdout",
     "output_type": "stream",
     "text": [
      "Random Forest Classifier:\n",
      "Best parameters: {'max_depth': 10, 'min_samples_split': 2, 'n_estimators': 200}\n",
      "Best score: 0.6004371584699453\n"
     ]
    }
   ],
   "source": [
    "search_rf = GridSearchCV(rf, param_grid['RandomForestClassifier'], cv=5, n_jobs=-1, scoring='accuracy')\n",
    "search_rf.fit(X, y)\n",
    "print('Random Forest Classifier:')\n",
    "print(f'Best parameters: {search_rf.best_params_}')\n",
    "print(f'Best score: {search_rf.best_score_}')"
   ]
  },
  {
   "cell_type": "code",
   "execution_count": 97,
   "id": "daa29e6a",
   "metadata": {},
   "outputs": [
    {
     "name": "stdout",
     "output_type": "stream",
     "text": [
      "SVM:\n",
      "Best parameters: {'C': 1, 'gamma': 'scale', 'kernel': 'poly'}\n",
      "Best score: 0.6006557377049181\n"
     ]
    }
   ],
   "source": [
    "search_svm = GridSearchCV(svm, param_grid['SVC'], cv=5, n_jobs=-1, scoring='accuracy')\n",
    "search_svm.fit(X, y)\n",
    "print('SVM:')\n",
    "print(f'Best parameters: {search_svm.best_params_}')\n",
    "print(f'Best score: {search_svm.best_score_}')"
   ]
  },
  {
   "cell_type": "code",
   "execution_count": 98,
   "id": "48893497",
   "metadata": {},
   "outputs": [
    {
     "name": "stdout",
     "output_type": "stream",
     "text": [
      "Heirarchical Clustering:\n",
      "Best parameters: {'linkage': 'ward', 'n_clusters': 2}\n"
     ]
    },
    {
     "name": "stderr",
     "output_type": "stream",
     "text": [
      "C:\\Users\\ADMIN\\AppData\\Local\\Packages\\PythonSoftwareFoundation.Python.3.11_qbz5n2kfra8p0\\LocalCache\\local-packages\\Python311\\site-packages\\sklearn\\model_selection\\_search.py:1135: UserWarning: One or more of the test scores are non-finite: [nan nan nan nan nan nan nan nan nan nan nan nan nan nan nan nan]\n",
      "  warnings.warn(\n"
     ]
    }
   ],
   "source": [
    "search_hc = GridSearchCV(heirarchical, param_grid['HeirarchicalClustering'], cv=5, n_jobs=-1, scoring='accuracy')\n",
    "search_hc.fit(X)\n",
    "print('Heirarchical Clustering:')\n",
    "print(f'Best parameters: {search_hc.best_params_}')"
   ]
  },
  {
   "cell_type": "code",
   "execution_count": 99,
   "id": "119a9e64",
   "metadata": {},
   "outputs": [
    {
     "name": "stdout",
     "output_type": "stream",
     "text": [
      "KMeans:\n",
      "Best parameters: {'init': 'k-means++', 'n_clusters': 2, 'n_init': 10}\n"
     ]
    },
    {
     "name": "stderr",
     "output_type": "stream",
     "text": [
      "C:\\Users\\ADMIN\\AppData\\Local\\Packages\\PythonSoftwareFoundation.Python.3.11_qbz5n2kfra8p0\\LocalCache\\local-packages\\Python311\\site-packages\\sklearn\\model_selection\\_search.py:1135: UserWarning: One or more of the test scores are non-finite: [nan nan nan nan nan nan nan nan nan nan nan nan nan nan nan nan nan nan\n",
      " nan nan nan nan nan nan]\n",
      "  warnings.warn(\n"
     ]
    }
   ],
   "source": [
    "search_kmeans = GridSearchCV(kmeans, param_grid['Kmeans'], cv=5, n_jobs=-1, scoring='accuracy')\n",
    "search_kmeans.fit(X)\n",
    "print('KMeans:')\n",
    "print(f'Best parameters: {search_kmeans.best_params_}')"
   ]
  },
  {
   "cell_type": "code",
   "execution_count": 100,
   "id": "ecd44b63",
   "metadata": {},
   "outputs": [
    {
     "data": {
      "text/plain": [
       "['../models/best_model.pkl']"
      ]
     },
     "execution_count": 100,
     "metadata": {},
     "output_type": "execute_result"
    }
   ],
   "source": [
    "best_model = search_svm.best_estimator_\n",
    "joblib.dump(best_model, '../models/best_model.pkl')"
   ]
  },
  {
   "cell_type": "code",
   "execution_count": null,
   "id": "7956784f",
   "metadata": {},
   "outputs": [],
   "source": []
  }
 ],
 "metadata": {
  "kernelspec": {
   "display_name": "Python 3",
   "language": "python",
   "name": "python3"
  },
  "language_info": {
   "codemirror_mode": {
    "name": "ipython",
    "version": 3
   },
   "file_extension": ".py",
   "mimetype": "text/x-python",
   "name": "python",
   "nbconvert_exporter": "python",
   "pygments_lexer": "ipython3",
   "version": "3.11.9"
  }
 },
 "nbformat": 4,
 "nbformat_minor": 5
}
